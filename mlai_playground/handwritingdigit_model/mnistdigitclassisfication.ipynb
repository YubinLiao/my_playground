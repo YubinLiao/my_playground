{
  "nbformat": 4,
  "nbformat_minor": 0,
  "metadata": {
    "colab": {
      "provenance": [],
      "gpuType": "T4"
    },
    "kernelspec": {
      "name": "python3",
      "display_name": "Python 3"
    },
    "language_info": {
      "name": "python"
    },
    "accelerator": "GPU"
  },
  "cells": [
    {
      "cell_type": "code",
      "execution_count": null,
      "metadata": {
        "colab": {
          "base_uri": "https://localhost:8080/"
        },
        "id": "_Y56nShgl8aT",
        "outputId": "8a6910a8-3cbf-49ea-87e2-5484ff931d8e"
      },
      "outputs": [
        {
          "output_type": "stream",
          "name": "stdout",
          "text": [
            "Downloading data from https://storage.googleapis.com/tensorflow/tf-keras-datasets/mnist.npz\n",
            "11490434/11490434 [==============================] - 2s 0us/step\n"
          ]
        }
      ],
      "source": [
        "import tensorflow as tf\n",
        "\n",
        "# get mnist hand writing digit images\n",
        "mnist = tf.keras.datasets.mnist\n",
        "\n",
        "# normalize values between 0 and 1\n",
        "(x_train, y_train), (x_test, y_test) = mnist.load_data()\n",
        "x_train, x_test = x_train / 255.0, x_test / 255.0\n",
        "\n",
        "#change value between 0 and 9 to one-hot vector\n",
        "y_train = tf.keras.utils.to_categorical(y_train)\n",
        "y_test = tf.keras.utils.to_categorical(y_test)\n",
        "\n",
        "#reshpe training and testing image to fit into nn input shape of (28, 28, 1)\n",
        "x_train = x_train.reshape(\n",
        "    x_train.shape[0], x_train.shape[1], x_train.shape[2], 1\n",
        ")\n",
        "x_test = x_test.reshape(\n",
        "    x_test.shape[0], x_test.shape[1], x_test.shape[2], 1\n",
        ")\n"
      ]
    },
    {
      "cell_type": "code",
      "source": [
        "# Create cnn model\n",
        "model = tf.keras.models.Sequential([\n",
        "\n",
        "    tf.keras.layers.Conv2D(\n",
        "        16, (3, 3), activation=\"relu\", input_shape=(28, 28, 1)\n",
        "    ),\n",
        "    tf.keras.layers.MaxPooling2D(pool_size=(2, 2)),\n",
        "    tf.keras.layers.Conv2D(\n",
        "        32, (3, 3), activation=\"relu\", input_shape=(28, 28, 1)\n",
        "    ),\n",
        "    tf.keras.layers.MaxPooling2D(pool_size=(2, 2)),\n",
        "    tf.keras.layers.Flatten(),\n",
        "    tf.keras.layers.Dense(128, activation=\"relu\"),\n",
        "    tf.keras.layers.Dropout(0.5),\n",
        "\n",
        "    # Add an output layer with output units for all 10 digits\n",
        "    # use softmax since it is a multiple class classification problem\n",
        "    tf.keras.layers.Dense(10, activation=\"softmax\")\n",
        "])\n",
        "\n",
        "# multi classification, adam as optimizer, and categorical cross entropy as loss\n",
        "model.compile(\n",
        "    optimizer=\"adam\",\n",
        "    loss=\"categorical_crossentropy\",\n",
        "    metrics=[\"accuracy\"]\n",
        ")\n",
        "\n",
        "#train model with batch of 6000 training data, iterate 10 times\n",
        "model.fit(x_train, y_train, epochs=10)\n"
      ],
      "metadata": {
        "colab": {
          "base_uri": "https://localhost:8080/"
        },
        "id": "qW4OSkmrmi9p",
        "outputId": "ccf51a56-44d4-47b2-eb70-537a0472edef"
      },
      "execution_count": null,
      "outputs": [
        {
          "output_type": "stream",
          "name": "stdout",
          "text": [
            "Epoch 1/10\n",
            "1875/1875 [==============================] - 12s 4ms/step - loss: 0.3324 - accuracy: 0.8977\n",
            "Epoch 2/10\n",
            "1875/1875 [==============================] - 7s 4ms/step - loss: 0.1288 - accuracy: 0.9617\n",
            "Epoch 3/10\n",
            "1875/1875 [==============================] - 7s 4ms/step - loss: 0.0979 - accuracy: 0.9707\n",
            "Epoch 4/10\n",
            "1875/1875 [==============================] - 7s 4ms/step - loss: 0.0793 - accuracy: 0.9764\n",
            "Epoch 5/10\n",
            "1875/1875 [==============================] - 7s 4ms/step - loss: 0.0690 - accuracy: 0.9799\n",
            "Epoch 6/10\n",
            "1875/1875 [==============================] - 7s 4ms/step - loss: 0.0617 - accuracy: 0.9814\n",
            "Epoch 7/10\n",
            "1875/1875 [==============================] - 8s 4ms/step - loss: 0.0552 - accuracy: 0.9833\n",
            "Epoch 8/10\n",
            "1875/1875 [==============================] - 7s 3ms/step - loss: 0.0514 - accuracy: 0.9845\n",
            "Epoch 9/10\n",
            "1875/1875 [==============================] - 7s 4ms/step - loss: 0.0480 - accuracy: 0.9860\n",
            "Epoch 10/10\n",
            "1875/1875 [==============================] - 7s 3ms/step - loss: 0.0435 - accuracy: 0.9861\n"
          ]
        },
        {
          "output_type": "execute_result",
          "data": {
            "text/plain": [
              "<keras.src.callbacks.History at 0x7aaf165952d0>"
            ]
          },
          "metadata": {},
          "execution_count": 3
        }
      ]
    },
    {
      "cell_type": "code",
      "source": [
        "# Evaluate neural network performance\n",
        "model.evaluate(x_test,  y_test, verbose=2)\n",
        "\n",
        "#Training performance, and evaluation performance\n",
        "#Epoch 10/10\n",
        "#1875/1875 [==============================] - 7s 4ms/step - loss: 0.0192 - accuracy: 0.9935\n",
        "#313/313 - 1s - loss: 0.0379 - accuracy: 0.9894 - 775ms/epoch - 2ms/step\n",
        "#[0.037947092205286026, 0.9894000291824341]\n",
        "#    model.save(handwrigting.keras)\n"
      ],
      "metadata": {
        "colab": {
          "base_uri": "https://localhost:8080/"
        },
        "id": "v1J1kk2unv7S",
        "outputId": "5e4ae868-540b-42d1-ae03-ac8278c2c072"
      },
      "execution_count": null,
      "outputs": [
        {
          "output_type": "stream",
          "name": "stdout",
          "text": [
            "313/313 - 1s - loss: 0.0300 - accuracy: 0.9899 - 917ms/epoch - 3ms/step\n"
          ]
        },
        {
          "output_type": "execute_result",
          "data": {
            "text/plain": [
              "[0.030019931495189667, 0.9898999929428101]"
            ]
          },
          "metadata": {},
          "execution_count": 4
        }
      ]
    }
  ]
}